{
  "cells": [
    {
      "cell_type": "markdown",
      "metadata": {
        "colab_type": "text",
        "id": "3DR-eO17geWu"
      },
      "source": [
        "# Convolutional Neural Network"
      ]
    },
    {
      "cell_type": "markdown",
      "metadata": {
        "colab_type": "text",
        "id": "oxQxCBWyoGPE"
      },
      "source": [
        "## Part 1 - Data Preprocessing"
      ]
    },
    {
      "cell_type": "code",
      "execution_count": 1,
      "metadata": {
        "colab": {},
        "colab_type": "code",
        "id": "0koUcJMJpEBD"
      },
      "outputs": [
        {
          "name": "stdout",
          "output_type": "stream",
          "text": [
            "Found 8000 images belonging to 2 classes.\n",
            "Found 2000 images belonging to 2 classes.\n"
          ]
        }
      ],
      "source": [
        "from tensorflow.keras.preprocessing.image import ImageDataGenerator\n",
        "\n",
        "# Preprocessing the Training set\n",
        "train_datagen = ImageDataGenerator(rescale = 1./255,\n",
        "                                   shear_range = 0.2,\n",
        "                                   zoom_range = 0.2,\n",
        "                                   horizontal_flip = True)\n",
        "training_set = train_datagen.flow_from_directory('Data-CNN/training_set', \n",
        "                                                 target_size = (64, 64),\n",
        "                                                 batch_size = 32,\n",
        "                                                 class_mode = 'binary')\n",
        "\n",
        "# Preprocessing the Test set\n",
        "test_datagen = ImageDataGenerator(rescale = 1./255)\n",
        "test_set = test_datagen.flow_from_directory('Data-CNN/test_set',\n",
        "                                            target_size = (64, 64),\n",
        "                                            batch_size = 32,\n",
        "                                            class_mode = 'binary')"
      ]
    },
    {
      "cell_type": "markdown",
      "metadata": {
        "colab_type": "text",
        "id": "af8O4l90gk7B"
      },
      "source": [
        "## Part 2 - Building the CNN"
      ]
    },
    {
      "cell_type": "code",
      "execution_count": 2,
      "metadata": {
        "colab": {},
        "colab_type": "code",
        "id": "SAUt4UMPlhLS"
      },
      "outputs": [
        {
          "name": "stdout",
          "output_type": "stream",
          "text": [
            "Metal device set to: Apple M1 Pro\n",
            "\n",
            "systemMemory: 16.00 GB\n",
            "maxCacheSize: 5.33 GB\n",
            "\n"
          ]
        },
        {
          "name": "stderr",
          "output_type": "stream",
          "text": [
            "2022-07-06 09:50:24.121308: I tensorflow/core/common_runtime/pluggable_device/pluggable_device_factory.cc:305] Could not identify NUMA node of platform GPU ID 0, defaulting to 0. Your kernel may not have been built with NUMA support.\n",
            "2022-07-06 09:50:24.121660: I tensorflow/core/common_runtime/pluggable_device/pluggable_device_factory.cc:271] Created TensorFlow device (/job:localhost/replica:0/task:0/device:GPU:0 with 0 MB memory) -> physical PluggableDevice (device: 0, name: METAL, pci bus id: <undefined>)\n"
          ]
        }
      ],
      "source": [
        "from tensorflow.keras.models import Sequential\n",
        "from tensorflow.keras.layers import Dense, Dropout, Activation, Flatten\n",
        "from tensorflow.keras.layers import Conv2D, MaxPooling2D, GlobalAveragePooling2D\n",
        "from tensorflow.keras.optimizers import Adam, SGD\n",
        "\n",
        "cnn = Sequential() # Initializing the ANN\n",
        "\n",
        "cnn.add(Conv2D(filters=32, kernel_size=3, activation='relu', input_shape=[64, 64, 3])) # convolution\n",
        "cnn.add(MaxPooling2D(pool_size=2, strides=2))  # pooling \n",
        "\n",
        "cnn.add(Conv2D(filters=32, kernel_size=3, activation='relu')) # convolution 2\n",
        "cnn.add(MaxPooling2D(pool_size=2, strides=2)) # pooling\n",
        "\n",
        "cnn.add(Flatten()) #flattening \n",
        "cnn.add(Dense(units=128, activation='relu')) # full connection\n",
        "cnn.add(Dense(units=1, activation='sigmoid')) # output layer, softmax as activation function for multi-classification."
      ]
    },
    {
      "cell_type": "markdown",
      "metadata": {
        "colab_type": "text",
        "id": "D6XkI90snSDl"
      },
      "source": [
        "## Part 3 - Training the CNN"
      ]
    },
    {
      "cell_type": "code",
      "execution_count": 3,
      "metadata": {
        "colab": {},
        "colab_type": "code",
        "id": "NALksrNQpUlJ"
      },
      "outputs": [
        {
          "name": "stdout",
          "output_type": "stream",
          "text": [
            "Model: \"sequential\"\n",
            "_________________________________________________________________\n",
            " Layer (type)                Output Shape              Param #   \n",
            "=================================================================\n",
            " conv2d (Conv2D)             (None, 62, 62, 32)        896       \n",
            "                                                                 \n",
            " max_pooling2d (MaxPooling2D  (None, 31, 31, 32)       0         \n",
            " )                                                               \n",
            "                                                                 \n",
            " conv2d_1 (Conv2D)           (None, 29, 29, 32)        9248      \n",
            "                                                                 \n",
            " max_pooling2d_1 (MaxPooling  (None, 14, 14, 32)       0         \n",
            " 2D)                                                             \n",
            "                                                                 \n",
            " flatten (Flatten)           (None, 6272)              0         \n",
            "                                                                 \n",
            " dense (Dense)               (None, 128)               802944    \n",
            "                                                                 \n",
            " dense_1 (Dense)             (None, 1)                 129       \n",
            "                                                                 \n",
            "=================================================================\n",
            "Total params: 813,217\n",
            "Trainable params: 813,217\n",
            "Non-trainable params: 0\n",
            "_________________________________________________________________\n"
          ]
        }
      ],
      "source": [
        "# Compiling the CNN\n",
        "opt = Adam()\n",
        "cnn.compile(optimizer = opt, loss = 'binary_crossentropy', metrics = ['accuracy'])\n",
        "\n",
        "cnn.summary()"
      ]
    },
    {
      "cell_type": "code",
      "execution_count": 4,
      "metadata": {
        "colab": {},
        "colab_type": "code",
        "id": "XUj1W4PJptta"
      },
      "outputs": [
        {
          "name": "stdout",
          "output_type": "stream",
          "text": [
            "Epoch 1/20\n"
          ]
        },
        {
          "name": "stderr",
          "output_type": "stream",
          "text": [
            "2022-07-06 09:50:30.398465: W tensorflow/core/platform/profile_utils/cpu_utils.cc:128] Failed to get CPU frequency: 0 Hz\n",
            "2022-07-06 09:50:30.644457: I tensorflow/core/grappler/optimizers/custom_graph_optimizer_registry.cc:113] Plugin optimizer for device_type GPU is enabled.\n"
          ]
        },
        {
          "name": "stdout",
          "output_type": "stream",
          "text": [
            "250/250 [==============================] - ETA: 0s - loss: 0.6718 - accuracy: 0.5828"
          ]
        },
        {
          "name": "stderr",
          "output_type": "stream",
          "text": [
            "2022-07-06 09:50:48.577295: I tensorflow/core/grappler/optimizers/custom_graph_optimizer_registry.cc:113] Plugin optimizer for device_type GPU is enabled.\n"
          ]
        },
        {
          "name": "stdout",
          "output_type": "stream",
          "text": [
            "250/250 [==============================] - 21s 73ms/step - loss: 0.6718 - accuracy: 0.5828 - val_loss: 0.6091 - val_accuracy: 0.6525\n",
            "Epoch 2/20\n",
            "250/250 [==============================] - 17s 67ms/step - loss: 0.6077 - accuracy: 0.6688 - val_loss: 0.5618 - val_accuracy: 0.7215\n",
            "Epoch 3/20\n",
            "250/250 [==============================] - 17s 68ms/step - loss: 0.5635 - accuracy: 0.7053 - val_loss: 0.5514 - val_accuracy: 0.7290\n",
            "Epoch 4/20\n",
            "250/250 [==============================] - 19s 76ms/step - loss: 0.5300 - accuracy: 0.7359 - val_loss: 0.5141 - val_accuracy: 0.7445\n",
            "Epoch 5/20\n",
            "250/250 [==============================] - 19s 74ms/step - loss: 0.5029 - accuracy: 0.7510 - val_loss: 0.4925 - val_accuracy: 0.7590\n",
            "Epoch 6/20\n",
            "250/250 [==============================] - 17s 66ms/step - loss: 0.4817 - accuracy: 0.7738 - val_loss: 0.5265 - val_accuracy: 0.7480\n",
            "Epoch 7/20\n",
            "250/250 [==============================] - 17s 66ms/step - loss: 0.4687 - accuracy: 0.7791 - val_loss: 0.4633 - val_accuracy: 0.7775\n",
            "Epoch 8/20\n",
            "250/250 [==============================] - 16s 65ms/step - loss: 0.4499 - accuracy: 0.7913 - val_loss: 0.4852 - val_accuracy: 0.7770\n",
            "Epoch 9/20\n",
            "250/250 [==============================] - 16s 65ms/step - loss: 0.4360 - accuracy: 0.7960 - val_loss: 0.5039 - val_accuracy: 0.7785\n",
            "Epoch 10/20\n",
            "250/250 [==============================] - 17s 67ms/step - loss: 0.4339 - accuracy: 0.7955 - val_loss: 0.5014 - val_accuracy: 0.7670\n",
            "Epoch 11/20\n",
            "250/250 [==============================] - 17s 67ms/step - loss: 0.4081 - accuracy: 0.8095 - val_loss: 0.4463 - val_accuracy: 0.8035\n",
            "Epoch 12/20\n",
            "250/250 [==============================] - 17s 68ms/step - loss: 0.4076 - accuracy: 0.8128 - val_loss: 0.4394 - val_accuracy: 0.8015\n",
            "Epoch 13/20\n",
            "250/250 [==============================] - 17s 70ms/step - loss: 0.3955 - accuracy: 0.8166 - val_loss: 0.4470 - val_accuracy: 0.8000\n",
            "Epoch 14/20\n",
            "250/250 [==============================] - 204s 821ms/step - loss: 0.3845 - accuracy: 0.8221 - val_loss: 0.4492 - val_accuracy: 0.7925\n",
            "Epoch 15/20\n",
            "250/250 [==============================] - 17s 69ms/step - loss: 0.3725 - accuracy: 0.8339 - val_loss: 0.4723 - val_accuracy: 0.7910\n",
            "Epoch 16/20\n",
            "250/250 [==============================] - 19s 74ms/step - loss: 0.3615 - accuracy: 0.8335 - val_loss: 0.5163 - val_accuracy: 0.7860\n",
            "Epoch 17/20\n",
            "250/250 [==============================] - 18s 73ms/step - loss: 0.3480 - accuracy: 0.8433 - val_loss: 0.4781 - val_accuracy: 0.7945\n",
            "Epoch 18/20\n",
            "250/250 [==============================] - 17s 69ms/step - loss: 0.3356 - accuracy: 0.8461 - val_loss: 0.4494 - val_accuracy: 0.8130\n",
            "Epoch 19/20\n",
            "250/250 [==============================] - 17s 68ms/step - loss: 0.3273 - accuracy: 0.8591 - val_loss: 0.4627 - val_accuracy: 0.8130\n",
            "Epoch 20/20\n",
            "250/250 [==============================] - 18s 72ms/step - loss: 0.3196 - accuracy: 0.8594 - val_loss: 0.4902 - val_accuracy: 0.7960\n"
          ]
        }
      ],
      "source": [
        "# Training the CNN on the Training set and evaluating it on the Test set\n",
        "history = cnn.fit(x = training_set, validation_data = test_set, epochs = 20, batch_size=32)"
      ]
    },
    {
      "cell_type": "markdown",
      "metadata": {},
      "source": [
        "### Evaluation"
      ]
    },
    {
      "cell_type": "code",
      "execution_count": 5,
      "metadata": {},
      "outputs": [
        {
          "data": {
            "image/png": "[encoded data removed]",
            "text/plain": [
              "<Figure size 432x288 with 1 Axes>"
            ]
          },
          "metadata": {
            "needs_background": "light"
          },
          "output_type": "display_data"
        },
        {
          "data": {
            "image/png": "[encoded data removed]",
            "text/plain": [
              "<Figure size 432x288 with 1 Axes>"
            ]
          },
          "metadata": {
            "needs_background": "light"
          },
          "output_type": "display_data"
        }
      ],
      "source": [
        "import matplotlib.pyplot as plt\n",
        "# plot accuracy - epochs\n",
        "plt.plot(history.history[\"accuracy\"])\n",
        "plt.plot(history.history[\"val_accuracy\"])\n",
        "plt.title(\"model accuracy\")\n",
        "plt.ylabel(\"Accuracy\")\n",
        "plt.xlabel(\"Epoch\")\n",
        "plt.legend([\"Accuracy\",\"Validation Accuracy\"])\n",
        "plt.legend(['train', 'val'], loc='upper left')\n",
        "plt.show()\n",
        "# plot loss - epochs\n",
        "plt.plot(history.history['loss'])\n",
        "plt.plot(history.history['val_loss'])\n",
        "plt.title('model loss')\n",
        "plt.ylabel(\"Loss\")\n",
        "plt.xlabel(\"Epoch\")\n",
        "plt.legend([\"loss\",\"Validation Loss\"])\n",
        "plt.legend(['train', 'val'], loc='upper left')\n",
        "plt.show()"
      ]
    },
    {
      "cell_type": "code",
      "execution_count": 87,
      "metadata": {},
      "outputs": [
        {
          "name": "stderr",
          "output_type": "stream",
          "text": [
            "/var/folders/sd/hl_8_g39189b03rq7tsq0ty00000gn/T/ipykernel_36733/2892152589.py:1: UserWarning: `Model.evaluate_generator` is deprecated and will be removed in a future version. Please use `Model.evaluate`, which supports generators.\n",
            "  score = cnn.evaluate_generator(test_set, 32)\n"
          ]
        },
        {
          "name": "stdout",
          "output_type": "stream",
          "text": [
            "[0.47808319330215454, 0.8095703125]\n"
          ]
        }
      ],
      "source": [
        "score = cnn.evaluate_generator(test_set, 32)\n",
        "print(score)"
      ]
    },
    {
      "cell_type": "code",
      "execution_count": 6,
      "metadata": {},
      "outputs": [],
      "source": [
        "# save model\n",
        "# cnn.save('cnn_model.h5')"
      ]
    },
    {
      "cell_type": "markdown",
      "metadata": {
        "colab_type": "text",
        "id": "U3PZasO0006Z"
      },
      "source": [
        "## Part 4 - Making a single prediction"
      ]
    },
    {
      "cell_type": "code",
      "execution_count": 7,
      "metadata": {
        "colab": {},
        "colab_type": "code",
        "id": "gsSiWEJY1BPB"
      },
      "outputs": [
        {
          "name": "stderr",
          "output_type": "stream",
          "text": [
            "2022-07-06 09:59:28.995467: I tensorflow/core/grappler/optimizers/custom_graph_optimizer_registry.cc:113] Plugin optimizer for device_type GPU is enabled.\n"
          ]
        },
        {
          "name": "stdout",
          "output_type": "stream",
          "text": [
            "1/1 [==============================] - 1s 772ms/step\n",
            "cat\n"
          ]
        }
      ],
      "source": [
        "import numpy as np\n",
        "from tensorflow.keras.utils import load_img, img_to_array\n",
        "test_image = load_img('Data-CNN/single_prediction/cat_or_dog_2.jpg', target_size = (64, 64))\n",
        "test_image = img_to_array(test_image)/255\n",
        "test_image = np.expand_dims(test_image, axis = 0)\n",
        "result = cnn.predict(test_image)\n",
        "training_set.class_indices\n",
        "if result[0][0] == 1:\n",
        "  prediction = 'dog'\n",
        "else:\n",
        "  prediction = 'cat'\n",
        "print(prediction)"
      ]
    }
  ],
  "metadata": {
    "colab": {
      "collapsed_sections": [],
      "name": "convolutional_neural_network.ipynb",
      "provenance": [],
      "toc_visible": true
    },
    "kernelspec": {
      "display_name": "Python 3.9.12",
      "language": "python",
      "name": "python3"
    },
    "language_info": {
      "codemirror_mode": {
        "name": "ipython",
        "version": 3
      },
      "file_extension": ".py",
      "mimetype": "text/x-python",
      "name": "python",
      "nbconvert_exporter": "python",
      "pygments_lexer": "ipython3",
      "version": "3.9.12"
    },
    "vscode": {
      "interpreter": {
        "hash": "b5aa44122ec421a99e51bf05c46c329c2801dd6c2fe40834e549112db593d0c4"
      }
    }
  },
  "nbformat": 4,
  "nbformat_minor": 0
}
